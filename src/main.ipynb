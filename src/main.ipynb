{
 "cells": [
  {
   "cell_type": "code",
   "execution_count": 1,
   "metadata": {},
   "outputs": [],
   "source": [
    "from itertools import islice\n",
    "from modules.compression import Compress\n",
    "from modules.dataset import Dataset\n",
    "from modules.index import Indexer\n",
    "from modules.query import Query\n",
    "\n",
    "import ast"
   ]
  },
  {
   "cell_type": "markdown",
   "metadata": {},
   "source": [
    "## Italian Lyrics Retrieval System"
   ]
  },
  {
   "cell_type": "markdown",
   "metadata": {},
   "source": [
    "#### Load Dataset and Remove Duplicates (simhash)\n",
    "Firstly, unpack the compressed documents in the data folders. Remove duplicate documents from the same author (see example in the report)."
   ]
  },
  {
   "cell_type": "code",
   "execution_count": null,
   "metadata": {},
   "outputs": [],
   "source": [
    "dataset = Dataset()\n",
    "\n",
    "dataset.load_dataset('../data/documents/')\n",
    "dataset.remove_duplicates()"
   ]
  },
  {
   "cell_type": "markdown",
   "metadata": {},
   "source": [
    "#### Index Creation"
   ]
  },
  {
   "cell_type": "code",
   "execution_count": null,
   "metadata": {},
   "outputs": [],
   "source": [
    "indexer = Indexer()\n",
    "\n",
    "indexer.create_positional_index(dataset)\n",
    "indexer.create_indexes(dataset)"
   ]
  },
  {
   "cell_type": "markdown",
   "metadata": {},
   "source": [
    "#### Compression"
   ]
  },
  {
   "cell_type": "code",
   "execution_count": null,
   "metadata": {},
   "outputs": [],
   "source": [
    "lite_index = Indexer.load_lite_index('../index/lite_index.txt')\n",
    "\n",
    "compress = Compress(block_size = 4)\n",
    "\n",
    "compress.compress_index(lite_index)"
   ]
  },
  {
   "cell_type": "markdown",
   "metadata": {},
   "source": [
    "#### Query"
   ]
  },
  {
   "cell_type": "markdown",
   "metadata": {},
   "source": [
    "Example:\n",
    "- Author: Raffaella Carrà, Raffaella, Carrà\n",
    "- Title: Tanti Auguri\n",
    "- Lyrics: \"Com'è bello far l'amore da Trieste in giù\"\n",
    "- Lyrics: Trieste"
   ]
  },
  {
   "cell_type": "code",
   "execution_count": 2,
   "metadata": {},
   "outputs": [
    {
     "name": "stdout",
     "output_type": "stream",
     "text": [
      "Loading the indexes... (this may take a while)\n"
     ]
    },
    {
     "name": "stderr",
     "output_type": "stream",
     "text": [
      "Loading lite index: 100%|██████████| 460/460 [00:00<00:00, 12394.59it/s]\n",
      "Loading lite index: 100%|██████████| 11726/11726 [00:00<00:00, 140983.19it/s]\n",
      "Loading positional index: 100%|██████████| 54443/54443 [00:11<00:00, 4691.03it/s]\n"
     ]
    },
    {
     "name": "stdout",
     "output_type": "stream",
     "text": [
      "Which type of query do you want to perform? (a = author, t = title, l = lyrics)\n",
      "Enter your [l] query: (for phrase query on lyrics, use double quotes)\n",
      "Preprocessoring query: Fare l'amore da Trieste\n",
      "Query tokens: ['far', 'amor', 'triest']\n",
      "23369 -> 18.006218285564955\n",
      "3801 -> 14.473569045371736\n",
      "25983 -> 11.73124986192073\n",
      "24961 -> 10.501738014507374\n",
      "60 -> 10.122022779230187\n",
      "Do you want to perform another query? (y/n)\n"
     ]
    }
   ],
   "source": [
    "print(\"Loading the indexes... (this may take a while)\")\n",
    "\n",
    "author_trie, title_trie, positional_trie = Indexer.load_indexes()\n",
    "\n",
    "with open('../index/documents_info.txt', 'r') as f:\n",
    "\tdocument_info = ast.literal_eval(f.read())\n",
    "\n",
    "with open('../index/avglen.txt', 'r') as f:\n",
    "\tavglen = float(f.read())\n",
    "\n",
    "query_engine = Query(author_trie, title_trie, positional_trie)\n",
    "\n",
    "print(\"Which type of query do you want to perform? (a = author, t = title, l = lyrics)\")\n",
    "\n",
    "query_type = input()\n",
    "\n",
    "while True:\n",
    "\tassert query_type in ['a', 't', 'l'], \"Invalid query type.\"\n",
    "\n",
    "\tprint(f\"Enter your [{query_type}] query: (for phrase query on lyrics, use double quotes)\")\n",
    "\tquery = input()\n",
    "\n",
    "\tresults = {}\n",
    "\n",
    "\tif query_type == 'a':\n",
    "\t\tprint(query_engine.perform_author_query(query))\n",
    "\telif query_type == 't':\n",
    "\t\tprint(query_engine.perform_title_query(query))\n",
    "\telif query_type == 'l':\n",
    "\t\tif query[0] == '\"' and query[-1] == '\"':\n",
    "\t\t\tresults = query_engine.perform_phrase_query(query)\n",
    "\t\telse:\n",
    "\t\t\tresults = query_engine.perform_okapi_bm25(query, document_info, avglen)\n",
    "\telse:\n",
    "\t\tprint(\"Invalid query type.\")\n",
    "\n",
    "\tfor key, value in islice(results.items(), 5):\n",
    "\t\tprint(f'{key} -> {value}')\n",
    "\n",
    "\tprint(\"Do you want to perform another query? (y/n)\")\n",
    "\tchoice = input()\n",
    "\tif choice == 'n':\n",
    "\t\tbreak\n",
    "\telif choice == 'y':\n",
    "\t\tprint(\"Which type of query do you want to perform? (a = author, t = title, l = lyrics)\")\n",
    "\t\tquery_type = input()\n",
    "\telse:\n",
    "\t\tprint(\"Invalid choice.\")\n",
    "\t\texit()"
   ]
  }
 ],
 "metadata": {
  "kernelspec": {
   "display_name": "italian-lyrics-retrieval-system-test",
   "language": "python",
   "name": "python3"
  },
  "language_info": {
   "codemirror_mode": {
    "name": "ipython",
    "version": 3
   },
   "file_extension": ".py",
   "mimetype": "text/x-python",
   "name": "python",
   "nbconvert_exporter": "python",
   "pygments_lexer": "ipython3",
   "version": "3.9.18"
  }
 },
 "nbformat": 4,
 "nbformat_minor": 2
}
